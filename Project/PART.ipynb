{
 "cells": [
  {
   "cell_type": "markdown",
   "metadata": {},
   "source": [
    "# Feature selection\n",
    "Feature selection is the process of selecting a subset of features that are most relevant for model construction which aid in creating an accurate predictive model. There are a wide range of feature selection algorithms, and these mainly fall in one of the three categories:\n",
    "\n",
    "Filter method– selects features by assigning a score to them using some statistical measure. Wrapper method– evaluates different subset of features, and determines the best subset. Embedded method – This method figures out which of the features give the best accuracy while the model is being trained.\n",
    "\n",
    "In our model, we will use filter method utilising the random.forest.importance function. The random.forest.importance function rates the importance of each feature in the classification of the outcome, i.e. class variable. The function returns a data frame containing the name of each attribute and the importance value based on the mean decrease in accuracy."
   ]
  },
  {
   "cell_type": "code",
   "execution_count": 11,
   "metadata": {},
   "outputs": [
    {
     "data": {
      "text/plain": [
       "RandomForestClassifier(bootstrap=True, class_weight=None, criterion='gini',\n",
       "            max_depth=None, max_features='auto', max_leaf_nodes=None,\n",
       "            min_impurity_decrease=0.0, min_impurity_split=None,\n",
       "            min_samples_leaf=1, min_samples_split=2,\n",
       "            min_weight_fraction_leaf=0.0, n_estimators=500, n_jobs=-1,\n",
       "            oob_score=False, random_state=1, verbose=0, warm_start=False)"
      ]
     },
     "execution_count": 11,
     "metadata": {},
     "output_type": "execute_result"
    }
   ],
   "source": [
    "forest = RandomForestClassifier(n_estimators=500,random_state=1,n_jobs=-1)\n",
    "forest.fit(X, y)"
   ]
  },
  {
   "cell_type": "code",
   "execution_count": 12,
   "metadata": {},
   "outputs": [
    {
     "name": "stdout",
     "output_type": "stream",
     "text": [
      "        Importance\n",
      "EMA21     2.143763\n",
      "RSI21     2.246916\n",
      "EMA63     2.282470\n",
      "%K21      2.334897\n",
      "%D21      2.447479\n",
      "MA21      2.454393\n",
      "MA63      2.454992\n",
      "MOM21     2.522991\n",
      "%K63      2.659367\n",
      "EMA252    2.774269\n",
      "MA252     3.106138\n",
      "ROC21     3.185368\n",
      "RSI252    3.507886\n",
      "%D63      3.666679\n",
      "%K252     9.167479\n",
      "RSI63    11.151801\n",
      "%D252    11.400691\n",
      "ROC63    14.600115\n",
      "MOM63    15.892306\n"
     ]
    },
    {
     "data": {
      "image/png": "[encoded data removed]",
      "text/plain": [
       "<Figure size 432x288 with 1 Axes>"
      ]
     },
     "metadata": {},
     "output_type": "display_data"
    }
   ],
   "source": [
    "Importance = pd.DataFrame({'Importance':forest.feature_importances_*100}, index=X.columns)\n",
    "print(Importance.sort_values('Importance', axis=0, ascending=True))\n",
    "Importance.sort_values('Importance', axis=0, ascending=True).plot(kind='barh', color='r', )\n",
    "plt.xlabel('Variable Importance')\n",
    "plt.gca().legend_ = None"
   ]
  },
  {
   "cell_type": "code",
   "execution_count": 13,
   "metadata": {},
   "outputs": [],
   "source": [
    "import numpy as np\n",
    "from sklearn.model_selection import train_test_split\n",
    "from sklearn import datasets\n",
    "from sklearn import svm,neighbors\n",
    "from sklearn.model_selection import cross_val_score\n",
    "from sklearn.preprocessing import RobustScaler\n",
    "from sklearn import metrics\n",
    "from sklearn.model_selection import cross_val_predict\n",
    "from sklearn import model_selection\n",
    "from sklearn.metrics import classification_report\n",
    "from sklearn.metrics import confusion_matrix\n",
    "from sklearn.metrics import accuracy_score\n",
    "from sklearn.tree import DecisionTreeClassifier\n",
    "from sklearn.neighbors import KNeighborsClassifier\n",
    "from sklearn.naive_bayes import GaussianNB\n",
    "from sklearn.svm import SVC"
   ]
  },
  {
   "cell_type": "markdown",
   "metadata": {},
   "source": [
    "# Splitting\n",
    "After creating models for unseen data, we will check their accuracy thanks to statistical methods. We evaluate the accuracy of the best model on actual unseen data to have the estimation more concrete.\n",
    "Meaning that we will use the algorithm on the training set and use the model on the test set afterwards for validation. We split the dataset into 80% training set and 20% test set."
   ]
  },
  {
   "cell_type": "code",
   "execution_count": 16,
   "metadata": {},
   "outputs": [
    {
     "name": "stdout",
     "output_type": "stream",
     "text": [
      "(4805, 26) (4805,)\n",
      "(1202, 26) (1202,)\n"
     ]
    }
   ],
   "source": [
    "X_1=datasub.drop(['signal'],axis=1)\n",
    "X_train, X_test, Y_train, Y_test = train_test_split(X_1, y, test_size=0.2, random_state=1)\n",
    "print (X_train.shape, Y_train.shape)\n",
    "print (X_test.shape, Y_test.shape)\n",
    "from sklearn.preprocessing import RobustScaler\n",
    "X_train_1=X_train.drop(['Close','High','Low','Open', 'Volume','short_mavg','long_mavg'], axis=1)\n",
    "X_test_1=X_test.drop(['Close','High','Low','Open', 'Volume','short_mavg','long_mavg'], axis=1)\n",
    "\n",
    "rs = RobustScaler()\n",
    "rs.fit(X_train_1)\n",
    "X_train_std = rs.transform(X_train_1)\n",
    "X_test_std = rs.transform(X_test_1)"
   ]
  },
  {
   "cell_type": "markdown",
   "metadata": {},
   "source": [
    "# Modeling\n",
    "In order to know which algorithm technic is the best for our strategy, we evaluate 5 non linear different methods:\n",
    "- K-Nearest Neighbors (KNN)\n",
    "- Classification and Regression Trees (CART)\n",
    "- Support Vector Machines (SVM)\n",
    "- Random Forest (RF)\n",
    "- Gaussian Naïve Bayes (NB)\n",
    "\n",
    "To ensure the comparatibility of the results (use the same data splits), the random number (seed = 1) is reset before each run."
   ]
  },
  {
   "cell_type": "code",
   "execution_count": 17,
   "metadata": {},
   "outputs": [
    {
     "name": "stdout",
     "output_type": "stream",
     "text": [
      "KNN: 0.957338 (0.004066)\n",
      "CART: 0.949218 (0.009593)\n",
      "SVM: 0.932570 (0.008892)\n",
      "RF: 0.966915 (0.009720)\n",
      "NB: 0.830599 (0.012240)\n"
     ]
    }
   ],
   "source": [
    "# Spot Check Algorithms\n",
    "data_Selected = []\n",
    "data_Selected.append(('KNN', KNeighborsClassifier()))\n",
    "data_Selected.append(('CART', DecisionTreeClassifier()))\n",
    "data_Selected.append(('SVM', SVC()))\n",
    "data_Selected.append(('RF', RandomForestClassifier()))\n",
    "data_Selected.append(('NB', GaussianNB()))\n",
    "# evaluate each model in turn\n",
    "results = []\n",
    "names = []\n",
    "score=['f1','accuracy','precison','recall']\n",
    "for name, model in data_Selected:\n",
    "    kfold = model_selection.KFold(n_splits=10, random_state=1)\n",
    "    cv_results =cross_val_score(model, X_train_std, Y_train, cv=kfold, scoring='accuracy')\n",
    "    results.append(cv_results)\n",
    "    names.append(name)\n",
    "    output = \"%s: %f (%f)\" % (name, cv_results.mean(), cv_results.std())\n",
    "    print(output)"
   ]
  },
  {
   "cell_type": "code",
   "execution_count": 18,
   "metadata": {},
   "outputs": [
    {
     "data": {
      "image/png": "[encoded data removed]",
      "text/plain": [
       "<Figure size 432x288 with 1 Axes>"
      ]
     },
     "metadata": {},
     "output_type": "display_data"
    }
   ],
   "source": [
    "fig = plt.figure()\n",
    "fig.suptitle('Algorithm Comparison')\n",
    "ax = fig.add_subplot(111)\n",
    "plt.boxplot(results)\n",
    "ax.set_xticklabels(names)\n",
    "plt.show()"
   ]
  }
 ],
 "metadata": {
  "kernelspec": {
   "display_name": "Python 3",
   "language": "python",
   "name": "python3"
  },
  "language_info": {
   "codemirror_mode": {
    "name": "ipython",
    "version": 3
   },
   "file_extension": ".py",
   "mimetype": "text/x-python",
   "name": "python",
   "nbconvert_exporter": "python",
   "pygments_lexer": "ipython3",
   "version": "3.5.5"
  }
 },
 "nbformat": 4,
 "nbformat_minor": 2
}
